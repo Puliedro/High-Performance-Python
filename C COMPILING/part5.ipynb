{
 "cells": [
  {
   "cell_type": "markdown",
   "metadata": {},
   "source": [
    "\n",
    "### Part 5 Compiling to Cython."
   ]
  },
  {
   "cell_type": "code",
   "execution_count": 9,
   "metadata": {},
   "outputs": [],
   "source": [
    "import time\n",
    "import numpy as np\n",
    "import matplotlib.pyplot as plt\n",
    "import timeit\n",
    "import cython1\n",
    "import cython2\n",
    "import cython3\n",
    "import cython4\n",
    "import python"
   ]
  },
  {
   "cell_type": "code",
   "execution_count": 11,
   "metadata": {},
   "outputs": [
    {
     "name": "stdout",
     "output_type": "stream",
     "text": [
      "40.4 ms ± 1.33 ms per loop (mean ± std. dev. of 10 runs, 10 loops each)\n"
     ]
    }
   ],
   "source": [
    "\n",
    "\n",
    "def initialize_lattice_with_cross(box_size):\n",
    "    lattice = [[0 for _ in range(box_size)] for _ in range(box_size)]\n",
    "\n",
    "    # Define the cross in the center\n",
    "    center = box_size // 2\n",
    "    for i in range(box_size):\n",
    "        # Set middle column cells to 1\n",
    "        lattice[i][center] = 1\n",
    "        # Set middle row cells to 1\n",
    "        lattice[center][i] = 1\n",
    "\n",
    "    return lattice\n",
    "\n",
    "# Assuming update and update_rule functions are defined as you provided\n",
    "box_size = 300\n",
    "lattice = initialize_lattice_with_cross(box_size)\n",
    "\n",
    "%timeit -n 10 -r 10 python.python_update(lattice)"
   ]
  },
  {
   "cell_type": "code",
   "execution_count": 12,
   "metadata": {},
   "outputs": [
    {
     "name": "stdout",
     "output_type": "stream",
     "text": [
      "19.4 ms ± 1.31 ms per loop (mean ± std. dev. of 10 runs, 10 loops each)\n"
     ]
    }
   ],
   "source": [
    "def initialize_lattice_with_cross(box_size):\n",
    "    lattice = [[0 for _ in range(box_size)] for _ in range(box_size)]\n",
    "\n",
    "    # Define the cross in the center\n",
    "    center = box_size // 2\n",
    "    for i in range(box_size):\n",
    "        # Set middle column cells to 1\n",
    "        lattice[i][center] = 1\n",
    "        # Set middle row cells to 1\n",
    "        lattice[center][i] = 1\n",
    "\n",
    "    return lattice\n",
    "\n",
    "# Assuming update and update_rule functions are defined as you provided\n",
    "box_size = 300\n",
    "lattice = initialize_lattice_with_cross(box_size)\n",
    "%timeit -n 10 -r 10 cython1.cython1_update(lattice)"
   ]
  },
  {
   "cell_type": "code",
   "execution_count": 13,
   "metadata": {},
   "outputs": [
    {
     "name": "stdout",
     "output_type": "stream",
     "text": [
      "10.8 ms ± 505 µs per loop (mean ± std. dev. of 10 runs, 10 loops each)\n"
     ]
    }
   ],
   "source": [
    "def initialize_lattice_with_cross(box_size):\n",
    "    lattice = [[0 for _ in range(box_size)] for _ in range(box_size)]\n",
    "\n",
    "    # Define the cross in the center\n",
    "    center = box_size // 2\n",
    "    for i in range(box_size):\n",
    "        # Set middle column cells to 1\n",
    "        lattice[i][center] = 1\n",
    "        # Set middle row cells to 1\n",
    "        lattice[center][i] = 1\n",
    "\n",
    "    return lattice\n",
    "\n",
    "# Assuming update and update_rule functions are defined as you provided\n",
    "box_size = 300\n",
    "lattice = initialize_lattice_with_cross(box_size)\n",
    "%timeit -n 10 -r 10 cython2.cython2_update(lattice)"
   ]
  },
  {
   "cell_type": "code",
   "execution_count": 14,
   "metadata": {},
   "outputs": [
    {
     "name": "stdout",
     "output_type": "stream",
     "text": [
      "9.56 ms ± 391 µs per loop (mean ± std. dev. of 10 runs, 10 loops each)\n"
     ]
    }
   ],
   "source": [
    "def initialize_lattice_with_cross(box_size):\n",
    "    lattice = [[0 for _ in range(box_size)] for _ in range(box_size)]\n",
    "\n",
    "    # Define the cross in the center\n",
    "    center = box_size // 2\n",
    "    for i in range(box_size):\n",
    "        # Set middle column cells to 1\n",
    "        lattice[i][center] = 1\n",
    "        # Set middle row cells to 1\n",
    "        lattice[center][i] = 1\n",
    "\n",
    "    return lattice\n",
    "\n",
    "# Assuming update and update_rule functions are defined as you provided\n",
    "box_size = 300\n",
    "lattice = initialize_lattice_with_cross(box_size)\n",
    "%timeit -n 10 -r 10 cython3.cython3_update(lattice)"
   ]
  }
 ],
 "metadata": {
  "kernelspec": {
   "display_name": "HPC",
   "language": "python",
   "name": "python3"
  },
  "language_info": {
   "codemirror_mode": {
    "name": "ipython",
    "version": 3
   },
   "file_extension": ".py",
   "mimetype": "text/x-python",
   "name": "python",
   "nbconvert_exporter": "python",
   "pygments_lexer": "ipython3",
   "version": "3.10.12"
  }
 },
 "nbformat": 4,
 "nbformat_minor": 2
}
