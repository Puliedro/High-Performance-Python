{
 "cells": [
  {
   "cell_type": "markdown",
   "metadata": {},
   "source": [
    "\n",
    "### Part 4  Matrix and Vector Computations."
   ]
  },
  {
   "cell_type": "code",
   "execution_count": 1,
   "metadata": {},
   "outputs": [],
   "source": [
    "import numpy as np\n",
    "from random import uniform\n",
    "from timeit import timeit\n",
    "import numexpr as ne\n",
    "\n",
    "class Particle:\n",
    "    def __init__(self, x, y, velocidad_angular):\n",
    "        self.x = x\n",
    "        self.y = y\n",
    "        self.velocidad_angular = velocidad_angular\n",
    "\n",
    "class ParticleSimulator:\n",
    "\n",
    "    def __init__(self, particles):\n",
    "        self.particles = particles\n",
    "\n",
    "    def evolve_python(self, dt):\n",
    "        timestep = 0.00001\n",
    "        nsteps = int(dt / timestep)\n",
    "        for i in range(nsteps):\n",
    "            for p in self.particles:\n",
    "                norm = (p.x**2 + p.y**2)**0.5\n",
    "                v_x = (-p.y) / norm\n",
    "                v_y = p.x / norm\n",
    "                d_x = timestep * p.velocidad_angular * v_x\n",
    "                d_y = timestep * p.velocidad_angular * v_y\n",
    "                p.x += d_x\n",
    "                p.y += d_y\n",
    "\n",
    "    def evolve_numpy(self, dt):\n",
    "        timestep = 0.00001\n",
    "        nsteps = int(dt / timestep)\n",
    "        r_i = np.array([[p.x, p.y] for p in self.particles])\n",
    "        velocidad_angular_i = np.array([p.velocidad_angular for p in self.particles])\n",
    "        for i in range(nsteps):\n",
    "            norm_i = np.sqrt((r_i ** 2).sum(axis=1))\n",
    "            v_i = r_i[:, [1, 0]] * np.array([-1, 1]) / norm_i[:, np.newaxis]\n",
    "            d_i = timestep * velocidad_angular_i[:, np.newaxis] * v_i\n",
    "            r_i += d_i\n",
    "        for i, p in enumerate(self.particles):\n",
    "            p.x, p.y = r_i[i]\n",
    "\n",
    " \n",
    "def benchmark(npart=1000, method='python'):\n",
    "    particles = [Particle(uniform(-1.0, 1.0), uniform(-1.0, 1.0), uniform(-1.0, 1.0)) for _ in range(npart)]\n",
    "    simulator = ParticleSimulator(particles)\n",
    "    if method == 'python':\n",
    "        simulator.evolve_python(0.1)\n",
    "    elif method == 'numpy':\n",
    "        simulator.evolve_numpy(0.1)"
   ]
  },
  {
   "cell_type": "code",
   "execution_count": 4,
   "metadata": {},
   "outputs": [
    {
     "name": "stdout",
     "output_type": "stream",
     "text": [
      "3.56 s ± 50.3 ms per loop (mean ± std. dev. of 7 runs, 1 loop each)\n",
      "304 ms ± 736 µs per loop (mean ± std. dev. of 7 runs, 1 loop each)\n",
      "36.20883484600017\n",
      "2.1088053760004186\n"
     ]
    }
   ],
   "source": [
    "if __name__ == \"__main__\":\n",
    "    # Example with 1000 particles\n",
    "    %timeit benchmark(npart=1_000, method='python')\n",
    "    %timeit benchmark(npart=1_000, method='numpy')\n",
    "\n",
    "    \n",
    "    # Example with 10000 particles\n",
    "    %timeit benchmark(npart=10_000, method='python')\n",
    "    %timeit benchmark(npart=10_000, method='numpy')"
   ]
  },
  {
   "cell_type": "markdown",
   "metadata": {},
   "source": [
    "## numexpr"
   ]
  },
  {
   "cell_type": "code",
   "execution_count": 19,
   "metadata": {},
   "outputs": [
    {
     "name": "stdout",
     "output_type": "stream",
     "text": [
      "5.46 ms ± 994 µs per loop (mean ± std. dev. of 7 runs, 100 loops each)\n",
      "2.43 ms ± 162 µs per loop (mean ± std. dev. of 7 runs, 100 loops each)\n"
     ]
    }
   ],
   "source": [
    "dt1 = np.arange(1e6)\n",
    "dt2 = np.arange(1e6)\n",
    "\n",
    "%timeit 2*dt1 + 3*dt2\n",
    "%timeit ne.evaluate(\"2*dt1 + 3*dt2\")"
   ]
  }
 ],
 "metadata": {
  "kernelspec": {
   "display_name": "HPC",
   "language": "python",
   "name": "python3"
  },
  "language_info": {
   "codemirror_mode": {
    "name": "ipython",
    "version": 3
   },
   "file_extension": ".py",
   "mimetype": "text/x-python",
   "name": "python",
   "nbconvert_exporter": "python",
   "pygments_lexer": "ipython3",
   "version": "3.10.12"
  }
 },
 "nbformat": 4,
 "nbformat_minor": 2
}
